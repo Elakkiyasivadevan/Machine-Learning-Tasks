{
  "nbformat": 4,
  "nbformat_minor": 0,
  "metadata": {
    "colab": {
      "provenance": [],
      "authorship_tag": "ABX9TyOenmuO8ehkqKYhqJp68o2g",
      "include_colab_link": true
    },
    "kernelspec": {
      "name": "python3",
      "display_name": "Python 3"
    },
    "language_info": {
      "name": "python"
    }
  },
  "cells": [
    {
      "cell_type": "markdown",
      "metadata": {
        "id": "view-in-github",
        "colab_type": "text"
      },
      "source": [
        "<a href=\"https://colab.research.google.com/github/Elakkiyasivadevan/Machine-Learning-Tasks/blob/main/LAB/ML_LogisticRegression.ipynb\" target=\"_parent\"><img src=\"https://colab.research.google.com/assets/colab-badge.svg\" alt=\"Open In Colab\"/></a>"
      ]
    },
    {
      "cell_type": "markdown",
      "source": [
        "EXAMPLE:"
      ],
      "metadata": {
        "id": "qT9O1ScPsJis"
      }
    },
    {
      "cell_type": "code",
      "execution_count": null,
      "metadata": {
        "id": "eMwsQMb-nQT_"
      },
      "outputs": [],
      "source": [
        "import pandas as pd\n",
        "import numpy as np\n",
        "from sklearn.model_selection import train_test_split\n",
        "from sklearn.linear_model import LogisticRegression\n",
        "from sklearn import metrics\n",
        "import seaborn as sn"
      ]
    },
    {
      "cell_type": "code",
      "source": [
        "col_names=['pregnant','glucose','bp','skin','insulin','bmi','pedigree','age','label']\n",
        "np.random.seed(0)\n",
        "data = {\n",
        "    'pregnant': np.random.randint(0, 17, 768),\n",
        "    'glucose': np.random.randint(70, 200, 768),\n",
        "    'bp': np.random.randint(40, 100, 768),\n",
        "    'skin': np.random.randint(0, 60, 768),\n",
        "    'insulin': np.random.randint(0, 300, 768),\n",
        "    'bmi': np.round(np.random.uniform(15, 50, 768), 1),\n",
        "    'pedigree': np.round(np.random.uniform(0.1, 2.5, 768), 3),\n",
        "    'age': np.random.randint(20, 80, 768),\n",
        "    'label': np.random.randint(0, 2, 768)\n",
        "}\n",
        "df = pd.DataFrame(data)\n",
        "\n",
        "print(df.shape)\n",
        "print(df.head())"
      ],
      "metadata": {
        "colab": {
          "base_uri": "https://localhost:8080/"
        },
        "id": "1WnuwZNvnq5_",
        "outputId": "d2e6a9f4-9ba2-42c1-e100-725dd11b961e"
      },
      "execution_count": null,
      "outputs": [
        {
          "output_type": "stream",
          "name": "stdout",
          "text": [
            "(768, 9)\n",
            "   pregnant  glucose  bp  skin  insulin   bmi  pedigree  age  label\n",
            "0        12       98  94    34      286  38.1     2.041   49      1\n",
            "1        15      155  91    41      269  43.9     1.751   71      0\n",
            "2         0      143  87    13      276  38.1     1.618   30      1\n",
            "3         3      187  44    49      267  41.6     1.714   62      1\n",
            "4         3      151  50    17      133  32.3     1.552   75      1\n"
          ]
        }
      ]
    },
    {
      "cell_type": "code",
      "source": [
        "df.isnull().sum()"
      ],
      "metadata": {
        "colab": {
          "base_uri": "https://localhost:8080/",
          "height": 366
        },
        "id": "1F6-Xe-Qpdp1",
        "outputId": "f25df5f9-176d-47ac-dc98-e9b6a81a6e0c"
      },
      "execution_count": null,
      "outputs": [
        {
          "output_type": "execute_result",
          "data": {
            "text/plain": [
              "pregnant    0\n",
              "glucose     0\n",
              "bp          0\n",
              "skin        0\n",
              "insulin     0\n",
              "bmi         0\n",
              "pedigree    0\n",
              "age         0\n",
              "label       0\n",
              "dtype: int64"
            ],
            "text/html": [
              "<div>\n",
              "<style scoped>\n",
              "    .dataframe tbody tr th:only-of-type {\n",
              "        vertical-align: middle;\n",
              "    }\n",
              "\n",
              "    .dataframe tbody tr th {\n",
              "        vertical-align: top;\n",
              "    }\n",
              "\n",
              "    .dataframe thead th {\n",
              "        text-align: right;\n",
              "    }\n",
              "</style>\n",
              "<table border=\"1\" class=\"dataframe\">\n",
              "  <thead>\n",
              "    <tr style=\"text-align: right;\">\n",
              "      <th></th>\n",
              "      <th>0</th>\n",
              "    </tr>\n",
              "  </thead>\n",
              "  <tbody>\n",
              "    <tr>\n",
              "      <th>pregnant</th>\n",
              "      <td>0</td>\n",
              "    </tr>\n",
              "    <tr>\n",
              "      <th>glucose</th>\n",
              "      <td>0</td>\n",
              "    </tr>\n",
              "    <tr>\n",
              "      <th>bp</th>\n",
              "      <td>0</td>\n",
              "    </tr>\n",
              "    <tr>\n",
              "      <th>skin</th>\n",
              "      <td>0</td>\n",
              "    </tr>\n",
              "    <tr>\n",
              "      <th>insulin</th>\n",
              "      <td>0</td>\n",
              "    </tr>\n",
              "    <tr>\n",
              "      <th>bmi</th>\n",
              "      <td>0</td>\n",
              "    </tr>\n",
              "    <tr>\n",
              "      <th>pedigree</th>\n",
              "      <td>0</td>\n",
              "    </tr>\n",
              "    <tr>\n",
              "      <th>age</th>\n",
              "      <td>0</td>\n",
              "    </tr>\n",
              "    <tr>\n",
              "      <th>label</th>\n",
              "      <td>0</td>\n",
              "    </tr>\n",
              "  </tbody>\n",
              "</table>\n",
              "</div><br><label><b>dtype:</b> int64</label>"
            ]
          },
          "metadata": {},
          "execution_count": 6
        }
      ]
    },
    {
      "cell_type": "code",
      "source": [
        "feature_cols=['pregnant','insulin','bmi','age','glucose','bp','pedigree']\n",
        "x=df[feature_cols]\n",
        "y=df.label\n",
        "x_train,x_test,y_train,y_test=train_test_split(x,y,test_size=0.2,random_state=5)\n",
        "display(x_train.shape,y_train.shape,x_test.shape,y_test.shape)"
      ],
      "metadata": {
        "colab": {
          "base_uri": "https://localhost:8080/",
          "height": 90
        },
        "id": "WknyPESDphE1",
        "outputId": "79caeda0-db4a-46ed-9226-ef57fea66a81"
      },
      "execution_count": null,
      "outputs": [
        {
          "output_type": "display_data",
          "data": {
            "text/plain": [
              "(614, 7)"
            ]
          },
          "metadata": {}
        },
        {
          "output_type": "display_data",
          "data": {
            "text/plain": [
              "(614,)"
            ]
          },
          "metadata": {}
        },
        {
          "output_type": "display_data",
          "data": {
            "text/plain": [
              "(154, 7)"
            ]
          },
          "metadata": {}
        },
        {
          "output_type": "display_data",
          "data": {
            "text/plain": [
              "(154,)"
            ]
          },
          "metadata": {}
        }
      ]
    },
    {
      "cell_type": "code",
      "source": [
        "model=LogisticRegression(solver='lbfgs',max_iter=1000)\n",
        "model.fit(x_train,y_train)\n",
        "y_pred=model.predict(x_test)\n",
        "conf_mat=metrics.confusion_matrix(y_test,y_pred)\n",
        "print('Confusion matrix:',conf_mat)\n",
        "Accuracy_score=metrics.accuracy_score(y_test,y_pred)\n",
        "print('Accuracy score:',Accuracy_score)"
      ],
      "metadata": {
        "colab": {
          "base_uri": "https://localhost:8080/"
        },
        "id": "WmI73-UkqpiR",
        "outputId": "16ff81d9-feb6-4df4-8d54-719390c9f377"
      },
      "execution_count": null,
      "outputs": [
        {
          "output_type": "stream",
          "name": "stdout",
          "text": [
            "Confusion matrix: [[25 57]\n",
            " [21 51]]\n",
            "Accuracy score: 0.4935064935064935\n"
          ]
        }
      ]
    },
    {
      "cell_type": "code",
      "source": [
        "conf_mat=pd.crosstab(y_test,y_pred,rownames=[\"Actual\"],colnames=[\"Predicted\"])\n",
        "sn.heatmap(conf_mat,annot=True)"
      ],
      "metadata": {
        "colab": {
          "base_uri": "https://localhost:8080/",
          "height": 467
        },
        "id": "Zsfx9afKryt4",
        "outputId": "856cae37-1a8e-4de5-dfdd-151e7c1969e9"
      },
      "execution_count": null,
      "outputs": [
        {
          "output_type": "execute_result",
          "data": {
            "text/plain": [
              "<Axes: xlabel='Predicted', ylabel='Actual'>"
            ]
          },
          "metadata": {},
          "execution_count": 12
        },
        {
          "output_type": "display_data",
          "data": {
            "text/plain": [
              "<Figure size 640x480 with 2 Axes>"
            ],
            "image/png": "[encoded data removed]"
          },
          "metadata": {}
        }
      ]
    },
    {
      "cell_type": "markdown",
      "source": [
        "1. A researcher is interested in determining how variables such as GRE (Graduate Record Examination scores), GPA (Grade Point Average), and the prestige (ranking) of an undergraduate institution influence admission into graduate school. The goal is to build a logistic regression model to predict whether a student is admitted (1) or not admitted (0) based on these factors."
      ],
      "metadata": {
        "id": "SFOhV6tMw1Mw"
      }
    },
    {
      "cell_type": "code",
      "source": [
        "import pandas as pd\n",
        "import numpy as np\n",
        "from sklearn.model_selection import train_test_split\n",
        "from sklearn.linear_model import LogisticRegression\n",
        "from sklearn import metrics\n",
        "import seaborn as sn\n",
        "import matplotlib.pyplot as plt\n",
        "\n",
        "url = \"https://stats.idre.ucla.edu/stat/stata/dae/binary.dta\"\n",
        "df = pd.read_stata(url)\n",
        "\n",
        "print(df.shape)\n",
        "print(df.head())\n",
        "\n",
        "feature_cols = ['gre', 'gpa', 'rank']\n",
        "X = df[feature_cols]\n",
        "y = df['admit']\n",
        "\n",
        "X = pd.get_dummies(X, columns=['rank'], drop_first=True)\n",
        "\n",
        "X_train, X_test, y_train, y_test = train_test_split(X, y, test_size=0.2, random_state=0)\n",
        "model = LogisticRegression(max_iter=1000)\n",
        "model.fit(X_train, y_train)\n",
        "y_pred = model.predict(X_test)\n",
        "print('Confusion Matrix:\\n', metrics.confusion_matrix(y_test, y_pred))\n",
        "print('Accuracy:', metrics.accuracy_score(y_test, y_pred))\n",
        "\n",
        "conf_mat = pd.crosstab(y_test, y_pred, rownames=[\"Actual\"], colnames=[\"Predicted\"])\n",
        "sn.heatmap(conf_mat, annot=True)\n",
        "plt.show()"
      ],
      "metadata": {
        "colab": {
          "base_uri": "https://localhost:8080/",
          "height": 650
        },
        "id": "UUcNJ1BZw4R8",
        "outputId": "e60954cc-bf4a-4922-b75e-e9bebd1ec533"
      },
      "execution_count": null,
      "outputs": [
        {
          "output_type": "stream",
          "name": "stdout",
          "text": [
            "(400, 4)\n",
            "   admit    gre   gpa  rank\n",
            "0    0.0  380.0  3.61   3.0\n",
            "1    1.0  660.0  3.67   3.0\n",
            "2    1.0  800.0  4.00   1.0\n",
            "3    1.0  640.0  3.19   4.0\n",
            "4    0.0  520.0  2.93   4.0\n",
            "Confusion Matrix:\n",
            " [[52  3]\n",
            " [20  5]]\n",
            "Accuracy: 0.7125\n"
          ]
        },
        {
          "output_type": "display_data",
          "data": {
            "text/plain": [
              "<Figure size 640x480 with 2 Axes>"
            ],
            "image/png": "[encoded data removed]"
          },
          "metadata": {}
        }
      ]
    },
    {
      "cell_type": "markdown",
      "source": [
        "2. Using a medical dataset, investigate whether a person is susceptible to a certain disease or not. Build a logistic regression model using variables such as glucose level, blood pressure, insulin, BMI, age, and other medical indicators to predict whether the person is diseased (1) or healthy (0)."
      ],
      "metadata": {
        "id": "A9zfy1uMyBfD"
      }
    },
    {
      "cell_type": "code",
      "source": [
        "import pandas as pd\n",
        "import numpy as np\n",
        "from sklearn.model_selection import train_test_split\n",
        "from sklearn.linear_model import LogisticRegression\n",
        "from sklearn import metrics\n",
        "import seaborn as sn\n",
        "import matplotlib.pyplot as plt\n",
        "\n",
        "np.random.seed(0)\n",
        "data = {\n",
        "    'pregnant': np.random.randint(0, 17, 768),\n",
        "    'glucose': np.random.randint(70, 200, 768),\n",
        "    'bp': np.random.randint(40, 100, 768),\n",
        "    'skin': np.random.randint(0, 60, 768),\n",
        "    'insulin': np.random.randint(0, 300, 768),\n",
        "    'bmi': np.round(np.random.uniform(15, 50, 768), 1),\n",
        "    'pedigree': np.round(np.random.uniform(0.1, 2.5, 768), 3),\n",
        "    'age': np.random.randint(20, 80, 768),\n",
        "    'label': np.random.randint(0, 2, 768)\n",
        "}\n",
        "\n",
        "df = pd.DataFrame(data)\n",
        "\n",
        "print(\"Dataset shape:\", df.shape)\n",
        "print(\"First 5 rows:\")\n",
        "print(df.head())\n",
        "\n",
        "print(\"\\nMissing values in each column:\")\n",
        "print(df.isnull().sum())\n",
        "\n",
        "feature_cols = ['pregnant', 'insulin', 'bmi', 'age', 'glucose', 'bp', 'pedigree']\n",
        "X = df[feature_cols]\n",
        "y = df['label']\n",
        "\n",
        "X_train, X_test, y_train, y_test = train_test_split(X, y, test_size=0.2, random_state=5)\n",
        "\n",
        "print(\"\\nTrain/Test Split Shapes:\")\n",
        "print(\"X_train:\", X_train.shape)\n",
        "print(\"y_train:\", y_train.shape)\n",
        "print(\"X_test:\", X_test.shape)\n",
        "print(\"y_test:\", y_test.shape)\n",
        "\n",
        "model = LogisticRegression(solver='lbfgs', max_iter=1000)\n",
        "model.fit(X_train, y_train)\n",
        "\n",
        "y_pred = model.predict(X_test)\n",
        "\n",
        "conf_mat = metrics.confusion_matrix(y_test, y_pred)\n",
        "print(\"\\nConfusion Matrix:\")\n",
        "print(conf_mat)\n",
        "\n",
        "accuracy_score = metrics.accuracy_score(y_test, y_pred)\n",
        "print(\"\\nAccuracy Score:\", accuracy_score)\n",
        "\n",
        "conf_mat_df = pd.crosstab(y_test, y_pred, rownames=[\"Actual\"], colnames=[\"Predicted\"])\n",
        "sn.heatmap(conf_mat_df, annot=True, cmap='Blues', fmt='g')\n",
        "plt.title(\"Confusion Matrix Heatmap\")\n",
        "plt.show()"
      ],
      "metadata": {
        "colab": {
          "base_uri": "https://localhost:8080/",
          "height": 1000
        },
        "id": "Jc-9CujGyFzZ",
        "outputId": "09dd3c32-4638-4e39-bb36-c5f9de1ae006"
      },
      "execution_count": null,
      "outputs": [
        {
          "output_type": "stream",
          "name": "stdout",
          "text": [
            "Dataset shape: (768, 9)\n",
            "First 5 rows:\n",
            "   pregnant  glucose  bp  skin  insulin   bmi  pedigree  age  label\n",
            "0        12       98  94    34      286  38.1     2.041   49      1\n",
            "1        15      155  91    41      269  43.9     1.751   71      0\n",
            "2         0      143  87    13      276  38.1     1.618   30      1\n",
            "3         3      187  44    49      267  41.6     1.714   62      1\n",
            "4         3      151  50    17      133  32.3     1.552   75      1\n",
            "\n",
            "Missing values in each column:\n",
            "pregnant    0\n",
            "glucose     0\n",
            "bp          0\n",
            "skin        0\n",
            "insulin     0\n",
            "bmi         0\n",
            "pedigree    0\n",
            "age         0\n",
            "label       0\n",
            "dtype: int64\n",
            "\n",
            "Train/Test Split Shapes:\n",
            "X_train: (614, 7)\n",
            "y_train: (614,)\n",
            "X_test: (154, 7)\n",
            "y_test: (154,)\n",
            "\n",
            "Confusion Matrix:\n",
            "[[25 57]\n",
            " [21 51]]\n",
            "\n",
            "Accuracy Score: 0.4935064935064935\n"
          ]
        },
        {
          "output_type": "display_data",
          "data": {
            "text/plain": [
              "<Figure size 640x480 with 2 Axes>"
            ],
            "image/png": "[encoded data removed]"
          },
          "metadata": {}
        }
      ]
    },
    {
      "cell_type": "markdown",
      "source": [
        "3. For an online retail company, develop a logistic regression model to predict whether a customer will purchase a particular product. The dataset includes features such as age, income, number of website visits, etc., and the target variable indicates whether the customer purchased (1) or did not purchase (0) a product."
      ],
      "metadata": {
        "id": "cdo56dgRyduX"
      }
    },
    {
      "cell_type": "code",
      "source": [
        "import pandas as pd\n",
        "import numpy as np\n",
        "from sklearn.model_selection import train_test_split\n",
        "from sklearn.linear_model import LogisticRegression\n",
        "from sklearn import metrics\n",
        "import seaborn as sn\n",
        "import matplotlib.pyplot as plt\n",
        "\n",
        "np.random.seed(42)\n",
        "data = {\n",
        "    'age': np.random.randint(18, 65, 500),\n",
        "    'income': np.random.randint(20000, 120000, 500),\n",
        "    'website_visits': np.random.randint(1, 20, 500),\n",
        "    'product_interest': np.random.randint(0, 2, 500)  # 0: No, 1: Yes\n",
        "}\n",
        "df = pd.DataFrame(data)\n",
        "\n",
        "print(\"Dataset shape:\", df.shape)\n",
        "print(\"First 5 rows:\")\n",
        "print(df.head())\n",
        "\n",
        "print(\"\\nMissing values in each column:\")\n",
        "print(df.isnull().sum())\n",
        "\n",
        "feature_cols = ['age', 'income', 'website_visits']\n",
        "X = df[feature_cols]\n",
        "y = df['product_interest']\n",
        "\n",
        "X_train, X_test, y_train, y_test = train_test_split(X, y, test_size=0.2, random_state=5)\n",
        "\n",
        "print(\"\\nTrain/Test Split Shapes:\")\n",
        "print(\"X_train:\", X_train.shape)\n",
        "print(\"y_train:\", y_train.shape)\n",
        "print(\"X_test:\", X_test.shape)\n",
        "print(\"y_test:\", y_test.shape)\n",
        "\n",
        "model = LogisticRegression(max_iter=1000)\n",
        "model.fit(X_train, y_train)\n",
        "\n",
        "y_pred = model.predict(X_test)\n",
        "\n",
        "conf_mat = metrics.confusion_matrix(y_test, y_pred)\n",
        "print(\"\\nConfusion Matrix:\")\n",
        "print(conf_mat)\n",
        "\n",
        "accuracy_score = metrics.accuracy_score(y_test, y_pred)\n",
        "print(\"\\nAccuracy Score:\", accuracy_score)\n",
        "\n",
        "conf_mat_df = pd.crosstab(y_test, y_pred, rownames=[\"Actual\"], colnames=[\"Predicted\"])\n",
        "sn.heatmap(conf_mat_df, annot=True, cmap='Blues', fmt='g')\n",
        "plt.title(\"Confusion Matrix Heatmap\")\n",
        "plt.show()\n"
      ],
      "metadata": {
        "colab": {
          "base_uri": "https://localhost:8080/",
          "height": 964
        },
        "id": "3RiR5Ks9yeyw",
        "outputId": "b3f08c40-d095-4233-9efb-904874e839ee"
      },
      "execution_count": null,
      "outputs": [
        {
          "output_type": "stream",
          "name": "stdout",
          "text": [
            "Dataset shape: (500, 4)\n",
            "First 5 rows:\n",
            "   age  income  website_visits  product_interest\n",
            "0   56   24000               4                 1\n",
            "1   46   90588              19                 0\n",
            "2   32  113610               1                 1\n",
            "3   60  117856              17                 0\n",
            "4   25   58304              12                 1\n",
            "\n",
            "Missing values in each column:\n",
            "age                 0\n",
            "income              0\n",
            "website_visits      0\n",
            "product_interest    0\n",
            "dtype: int64\n",
            "\n",
            "Train/Test Split Shapes:\n",
            "X_train: (400, 3)\n",
            "y_train: (400,)\n",
            "X_test: (100, 3)\n",
            "y_test: (100,)\n",
            "\n",
            "Confusion Matrix:\n",
            "[[17 30]\n",
            " [18 35]]\n",
            "\n",
            "Accuracy Score: 0.52\n"
          ]
        },
        {
          "output_type": "display_data",
          "data": {
            "text/plain": [
              "<Figure size 640x480 with 2 Axes>"
            ],
            "image/png": "[encoded data removed]"
          },
          "metadata": {}
        }
      ]
    }
  ]
}